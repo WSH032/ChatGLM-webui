{
  "nbformat": 4,
  "nbformat_minor": 0,
  "metadata": {
    "colab": {
      "provenance": [],
      "collapsed_sections": [
        "D9iIjZvZeEEo",
        "E3RnfVUceRM5",
        "akGK5YpRjcu_"
      ],
      "include_colab_link": true
    },
    "kernelspec": {
      "name": "python3",
      "display_name": "Python 3"
    },
    "language_info": {
      "name": "python"
    },
    "accelerator": "GPU",
    "gpuClass": "standard"
  },
  "cells": [
    {
      "cell_type": "markdown",
      "metadata": {
        "id": "view-in-github",
        "colab_type": "text"
      },
      "source": [
        "<a href=\"https://colab.research.google.com/github/WSH032/ChatGLM-webui/blob/main/Colab_ChatGLM.ipynb\" target=\"_parent\"><img src=\"https://colab.research.google.com/assets/colab-badge.svg\" alt=\"Open In Colab\"/></a>"
      ]
    },
    {
      "cell_type": "code",
      "execution_count": null,
      "metadata": {
        "cellView": "form",
        "id": "52QXFL73_0Pl"
      },
      "outputs": [],
      "source": [
        "#@title #（一）克隆秋叶的库、安装依赖\n",
        "\n",
        "!git clone https://github.com/Akegarasu/ChatGLM-webui\n",
        "%cd /content/ChatGLM-webui\n",
        "print(f\"正在安装依赖，请耐心等待\")\n",
        "!pip install --upgrade -r requirements.txt  > /dev/null 2>&1\n",
        "print(f\"依赖安装完成\")"
      ]
    },
    {
      "cell_type": "markdown",
      "source": [
        "# （二）选择一个方法并使用"
      ],
      "metadata": {
        "id": "noglVVk7d7xN"
      }
    },
    {
      "cell_type": "markdown",
      "source": [
        "## 2.1秋叶方法（WebUI）"
      ],
      "metadata": {
        "id": "D9iIjZvZeEEo"
      }
    },
    {
      "cell_type": "code",
      "source": [
        "#@title ###2.1.1 设置参数并开始对话\n",
        "\n",
        "extArgs=\"\"\n",
        "\n",
        "#@markdown 是否用CPU进行推理`CPU模式请选择chatglm-6b-int4-qe，不然会爆ram`\n",
        "use_cpu = False #@param {type:\"boolean\"}\n",
        "#启用CPU模型\n",
        "if use_cpu:\n",
        "  extArgs = extArgs + \"--cpu \"\n",
        "\n",
        "#@markdown 选择模型`Colab免费用户只能使用int4和qe模型`，或者填入自定义模型路径`将会覆盖预设模型选择`\n",
        "model_path = \"THUDM/chatglm-6b-int4\" #@param [\"THUDM/chatglm-6b\", \"THUDM/chatglm-6b-int4\", \"THUDM/chatglm-6b-int4-qe\"]\n",
        "your_model_path = \"\" #@param {type:\"string\"}\n",
        "#用自定义路径覆盖预设\n",
        "if your_model_path:\n",
        "  model_path = your_model_path\n",
        "\n",
        "#@markdown 推理精度`留空则自动指定, fp32只有CPU可使用 ； int4、int8只有GPU能用`\n",
        "precision = \"\" #@param [\"\", \"fp32\", \"fp16\", \"int4\", \"int8\"]\n",
        "#指定精度\n",
        "if precision:\n",
        "  extArgs = extArgs + f\"--precision={precision} \"\n",
        "\n",
        "#启动\n",
        "!python webui.py --model-path={model_path} --listen --share {extArgs}"
      ],
      "metadata": {
        "cellView": "form",
        "id": "jIiNeWyKAL6V"
      },
      "execution_count": null,
      "outputs": []
    },
    {
      "cell_type": "markdown",
      "source": [
        "## 2.2WSH方法（Colab风格`支持流式对话`）"
      ],
      "metadata": {
        "id": "E3RnfVUceRM5"
      }
    },
    {
      "cell_type": "code",
      "source": [
        "#@title ###2.2.1选择并启用模型\n",
        "\n",
        "from transformers import AutoModel, AutoTokenizer\n",
        "import gradio as gr\n",
        "\n",
        "#@markdown 是否用CPU进行推理`CPU模式请选择chatglm-6b-int4-qe，不然会爆ram`\n",
        "use_cpu = False #@param {type:\"boolean\"}\n",
        "\n",
        "#@markdown 选择模型`Colab免费用户只能使用int4和qe模型`，或者填入自定义模型路径`将会覆盖预设模型选择`\n",
        "model_path = \"THUDM/chatglm-6b-int4\" #@param [\"THUDM/chatglm-6b\", \"THUDM/chatglm-6b-int4\", \"THUDM/chatglm-6b-int4-qe\"]\n",
        "your_model_path = \"\" #@param {type:\"string\"}\n",
        "#用自定义路径覆盖预设\n",
        "if your_model_path:\n",
        "  model_path = your_model_path\n",
        "\n",
        "if use_cpu:\n",
        "  tokenizer = AutoTokenizer.from_pretrained(model_path, trust_remote_code=True)\n",
        "  model = AutoModel.from_pretrained(model_path, trust_remote_code=True).float()\n",
        "else:\n",
        "  tokenizer = AutoTokenizer.from_pretrained(model_path, trust_remote_code=True)\n",
        "  model = AutoModel.from_pretrained(model_path, trust_remote_code=True).half().cuda()\n",
        "\n",
        "model = model.eval()\n",
        "\n",
        "#初始化参数\n",
        "history = []\n",
        "count = 1\n",
        "max_length = 2048\n",
        "top_p = 0.7\n",
        "temperature =  0.95\n",
        "max_turns = 20\n",
        "clear_history_flag = False\n",
        "\n",
        "def clear_history_set():\n",
        "  global history, count, clear_history_flag\n",
        "  history = []\n",
        "  count = 1\n",
        "  clear_history_flag = False"
      ],
      "metadata": {
        "cellView": "form",
        "id": "m_FzCEwuUvKq"
      },
      "execution_count": null,
      "outputs": []
    },
    {
      "cell_type": "code",
      "source": [
        "#@title ###2.2.2参数设置（对话中也可更改）\n",
        "max_length = 2048 #@param {type:\"number\"}\n",
        "top_p = 0.7 #@param {type:\"slider\", min:0, max:1, step:0.01}\n",
        "temperature =  0.95 #@param {type:\"slider\", min:0, max:1, step:0.01}\n",
        "max_turns = 20 #@param {type:\"slider\", min:1, max:256, step:1}"
      ],
      "metadata": {
        "cellView": "form",
        "id": "pqaSs3MgbnV4"
      },
      "execution_count": 177,
      "outputs": []
    },
    {
      "cell_type": "code",
      "source": [
        "#@title ###2.2.3提问\n",
        "\n",
        "if clear_history_flag:\n",
        "  clear_history_set()\n",
        "  print(f\"达到对话次数上限，历史对话记录已被清空\")\n",
        "\n",
        "def ask_and_ans(tokenizer, ask, history, max_length, top_p, temperature):\n",
        "  old_history = \"\"\n",
        "  old_response = \"\"\n",
        "  for response, history in model.stream_chat(tokenizer, ask, history, max_length, top_p, temperature):\n",
        "    old_response = response\n",
        "    old_history = history\n",
        "    print(end=\"\\r\")\n",
        "    print(response, end=\"\", flush=True) # 打印当前字符串\n",
        "  print(end=\"\\r\")\n",
        "  print(old_response)\n",
        "  return old_response, old_history\n",
        "\n",
        "print(f\"第 {count} 次对话，到达 {max_turns} 次后，下一次对话时将删除历史对话记录\")\n",
        "\n",
        "ask = \"\" #@param {type:\"string\"}\n",
        "print(\"\\n\")\n",
        "response, history = ask_and_ans(tokenizer, ask, history, max_length=max_length, top_p=top_p,temperature=temperature)\n",
        "count = count +1\n",
        "\n",
        "if count > max_turns:\n",
        "  clear_history_flag = True\n",
        "\n",
        "\n"
      ],
      "metadata": {
        "cellView": "form",
        "id": "XYEVkeAqduqL"
      },
      "execution_count": null,
      "outputs": []
    },
    {
      "cell_type": "code",
      "source": [
        "#@title ###2.2.4 历史对话记录\n",
        "\n",
        "\n",
        "\n",
        "#@markdown 显示对话历史\n",
        "show_history = True #@param {type:\"boolean\"}\n",
        "if show_history:\n",
        "  for ask_contet,ans_content in history:\n",
        "    print(f\"用户： {ask_contet}\")\n",
        "    print(f\"回答： {ans_content}\")\n",
        "    print(f\"------------------------------------------------------\")\n",
        "#@markdown 手动清空对话历史\n",
        "clear_history = False #@param {type:\"boolean\"}\n",
        "if clear_history:\n",
        "  clear_history_set()\n",
        "  print(f\"聊天记录已被清空\")"
      ],
      "metadata": {
        "cellView": "form",
        "id": "kTAUdZZ1kniH"
      },
      "execution_count": null,
      "outputs": []
    },
    {
      "cell_type": "markdown",
      "source": [
        "## 2.3官方流式方法"
      ],
      "metadata": {
        "id": "akGK5YpRjcu_"
      }
    },
    {
      "cell_type": "code",
      "source": [
        "#@title ###2.3.1选择并启用模型\n",
        "\n",
        "from transformers import AutoModel, AutoTokenizer\n",
        "import gradio as gr\n",
        "\n",
        "#@markdown 是否用CPU进行推理`CPU模式请选择chatglm-6b-int4-qe，不然会爆ram`\n",
        "use_cpu = False #@param {type:\"boolean\"}\n",
        "\n",
        "#@markdown 选择模型`Colab免费用户只能使用int4和qe模型`，或者填入自定义模型路径`将会覆盖预设模型选择`\n",
        "model_path = \"THUDM/chatglm-6b-int4\" #@param [\"THUDM/chatglm-6b\", \"THUDM/chatglm-6b-int4\", \"THUDM/chatglm-6b-int4-qe\"]\n",
        "your_model_path = \"\" #@param {type:\"string\"}\n",
        "#用自定义路径覆盖预设\n",
        "if your_model_path:\n",
        "  model_path = your_model_path\n",
        "\n",
        "if use_cpu:\n",
        "  tokenizer = AutoTokenizer.from_pretrained(model_path, trust_remote_code=True)\n",
        "  model = AutoModel.from_pretrained(model_path, trust_remote_code=True).float()\n",
        "else:\n",
        "  tokenizer = AutoTokenizer.from_pretrained(model_path, trust_remote_code=True)\n",
        "  model = AutoModel.from_pretrained(model_path, trust_remote_code=True).half().cuda()\n",
        "\n",
        "model = model.eval()\n"
      ],
      "metadata": {
        "cellView": "form",
        "id": "mRlNHn6FmATu"
      },
      "execution_count": null,
      "outputs": []
    },
    {
      "cell_type": "code",
      "source": [
        "#@title ###2.3.2开启对话\n",
        "\n",
        "#@markdown 最大对话轮数\n",
        "MAX_TURNS = 20 #@param {type:\"slider\", min:1, max:256, step:1}\n",
        "MAX_BOXES = MAX_TURNS * 2\n",
        "\n",
        "\n",
        "\n",
        "def predict(input, max_length, top_p, temperature, history=None):\n",
        "    if history is None:\n",
        "        history = []\n",
        "    for response, history in model.stream_chat(tokenizer, input, history, max_length=max_length, top_p=top_p,\n",
        "                                               temperature=temperature):\n",
        "        updates = []\n",
        "        for query, response in history:\n",
        "            updates.append(gr.update(visible=True, value=\"用户：\" + query))\n",
        "            updates.append(gr.update(visible=True, value=\"ChatGLM-6B：\" + response))\n",
        "        if len(updates) < MAX_BOXES:\n",
        "            updates = updates + [gr.Textbox.update(visible=False)] * (MAX_BOXES - len(updates))\n",
        "        yield [history] + updates\n",
        "\n",
        "\n",
        "with gr.Blocks() as demo:\n",
        "    state = gr.State([])\n",
        "    text_boxes = []\n",
        "    for i in range(MAX_BOXES):\n",
        "        if i % 2 == 0:\n",
        "            text_boxes.append(gr.Markdown(visible=False, label=\"提问：\"))\n",
        "        else:\n",
        "            text_boxes.append(gr.Markdown(visible=False, label=\"回复：\"))\n",
        "\n",
        "    with gr.Row():\n",
        "        with gr.Column(scale=4):\n",
        "            txt = gr.Textbox(show_label=False, placeholder=\"Enter text and press enter\", lines=11).style(\n",
        "                container=False)\n",
        "        with gr.Column(scale=1):\n",
        "            max_length = gr.Slider(0, 4096, value=2048, step=1.0, label=\"Maximum length\", interactive=True)\n",
        "            top_p = gr.Slider(0, 1, value=0.7, step=0.01, label=\"Top P\", interactive=True)\n",
        "            temperature = gr.Slider(0, 1, value=0.95, step=0.01, label=\"Temperature\", interactive=True)\n",
        "            button = gr.Button(\"Generate\")\n",
        "    button.click(predict, [txt, max_length, top_p, temperature, state], [state] + text_boxes)\n",
        "demo.queue().launch()"
      ],
      "metadata": {
        "cellView": "form",
        "id": "nBSLEcXyjoBZ"
      },
      "execution_count": null,
      "outputs": []
    },
    {
      "cell_type": "markdown",
      "source": [
        "# *（三）开发备用代码*"
      ],
      "metadata": {
        "id": "HSWWiFDvjBn2"
      }
    },
    {
      "cell_type": "code",
      "source": [
        "old_response = \"\"\n",
        "for response, history in model.stream_chat(tokenizer, \"你好\", [], max_length=2048, top_p=0.7, temperature=0.95):\n",
        "  print(response[len(old_response):], end=\"\")\n",
        "  old_response = response\n",
        "print(end=\"\\r\")\n",
        "print(old_response)"
      ],
      "metadata": {
        "id": "5jh610GcQe5m",
        "outputId": "14bb8813-cea7-46af-be74-313a5023ac17",
        "colab": {
          "base_uri": "https://localhost:8080/"
        }
      },
      "execution_count": 97,
      "outputs": [
        {
          "output_type": "stream",
          "name": "stdout",
          "text": [
            "你好👋！我是人工智能助手 ChatGLM-6B，很高兴见到你，欢迎问我任何问题。\n"
          ]
        }
      ]
    },
    {
      "cell_type": "code",
      "source": [
        "import sys\n",
        "old_response = \"\"\n",
        "for response, history in model.stream_chat(tokenizer, \"你好\", [], max_length=2048, top_p=0.7, temperature=0.95):\n",
        "  old_response = response\n",
        "  sys.stdout.write(response)\n",
        "  sys.stdout.flush()\n",
        "  sys.stdout.write(\"\\r\")\n",
        "print(old_response) #"
      ],
      "metadata": {
        "id": "Rtju7dXTRc9E",
        "outputId": "bbdee23d-00b5-481d-dd28-15875f8bdd38",
        "colab": {
          "base_uri": "https://localhost:8080/"
        }
      },
      "execution_count": 99,
      "outputs": [
        {
          "output_type": "stream",
          "name": "stdout",
          "text": [
            "你好👋！我是人工智能助手 ChatGLM-6B，很高兴见到你，欢迎问我任何问题。\n"
          ]
        }
      ]
    }
  ]
}